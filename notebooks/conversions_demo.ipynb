{
 "cells": [
  {
   "cell_type": "markdown",
   "id": "76f951f9-d2aa-48e2-a19b-87e5a23313b3",
   "metadata": {},
   "source": [
    "# Demonstrate the conversions module\n",
    "\n",
    "<img align=\"left\" src = https://project.lsst.org/sites/default/files/Rubin-O-Logo_0.png width=200 style=\"padding: 10px\" alt=\"Rubin Observatory logo, a graphical representation of turning stars into data.\"><br>\n",
    "Contact author(s): Melissa Graham <br>\n",
    "Last verified to run: Wed Jun 26 2024 <br>\n",
    "Rubin Science Platform: data.lsst.cloud <br>\n",
    "LSST Science Pipelines version: Weekly 2024_16 <br>\n",
    "Container Size: medium <br>"
   ]
  },
  {
   "cell_type": "code",
   "execution_count": null,
   "id": "c1b554fc-59e6-49a2-9bde-396cba0b7e40",
   "metadata": {},
   "outputs": [],
   "source": [
    "import lsst.cst.conversions as lcc\n",
    "from lsst.daf.butler import Butler\n",
    "import numpy as np"
   ]
  },
  {
   "cell_type": "code",
   "execution_count": null,
   "id": "a52c35f0-8dfe-48c9-a940-c903cf1eaeaa",
   "metadata": {},
   "outputs": [],
   "source": [
    "for tmp in dir(lcc):\n",
    "    if tmp[0] != '_':\n",
    "        print(tmp)"
   ]
  },
  {
   "cell_type": "markdown",
   "id": "95079e1f-a4db-4d92-8a8e-f7cc7dae2ae9",
   "metadata": {},
   "source": [
    "## data_id_to_str"
   ]
  },
  {
   "cell_type": "code",
   "execution_count": null,
   "id": "ff2b8c76-7482-4b1f-84ea-b2f6d0ac4972",
   "metadata": {},
   "outputs": [],
   "source": [
    "help(lcc.data_id_to_str)"
   ]
  },
  {
   "cell_type": "code",
   "execution_count": null,
   "id": "e1fba665-afc5-4130-bcf0-0410fa8e9907",
   "metadata": {},
   "outputs": [],
   "source": [
    "dataId = {'band': 'i', 'tract': 4431, 'patch': 17}\n",
    "type(dataId)"
   ]
  },
  {
   "cell_type": "code",
   "execution_count": null,
   "id": "0de04d29-ffc6-45d1-901c-002e08806ed5",
   "metadata": {},
   "outputs": [],
   "source": [
    "result = lcc.data_id_to_str(dataId)\n",
    "print(result)\n",
    "print(type(result))\n",
    "del result, dataId"
   ]
  },
  {
   "cell_type": "markdown",
   "id": "b8d813cb-fdf9-4bd9-ae73-62c62c2f7510",
   "metadata": {},
   "source": [
    "## ids_to_str"
   ]
  },
  {
   "cell_type": "code",
   "execution_count": null,
   "id": "696b79ed-f0a0-4650-bde8-a74fa29290c8",
   "metadata": {},
   "outputs": [],
   "source": [
    "help(lcc.ids_to_str)"
   ]
  },
  {
   "cell_type": "code",
   "execution_count": null,
   "id": "77f6d088-9942-4c96-b946-d55c92a33ae0",
   "metadata": {},
   "outputs": [],
   "source": [
    "ids = np.asarray((1249537790362809267, 1252528461990360512, 1248772530269893180,\n",
    "                  1251728017525343554, 1251710425339299404, 1250030371572068167,\n",
    "                  1253443255664678173, 1251807182362538413, 1252607626827575504,\n",
    "                  1249784080967440401, 1253065023664713612, 1325835101237446771),\n",
    "                 dtype='int')"
   ]
  },
  {
   "cell_type": "code",
   "execution_count": null,
   "id": "bb0a7b42-016c-4521-b7ad-d1c55e791e61",
   "metadata": {},
   "outputs": [],
   "source": [
    "result = lcc.ids_to_str(ids)\n",
    "print(result)\n",
    "print(type(result))\n",
    "del result, ids"
   ]
  },
  {
   "cell_type": "markdown",
   "id": "74466be9-0cab-49ab-aa8f-47c3c621eece",
   "metadata": {},
   "source": [
    "## nearest_patch_from_ra_dec"
   ]
  },
  {
   "cell_type": "code",
   "execution_count": null,
   "id": "4026727b-1eed-4f04-a9c7-3fc5b7f872c6",
   "metadata": {},
   "outputs": [],
   "source": [
    "help(lcc.nearest_patch_from_ra_dec)"
   ]
  },
  {
   "cell_type": "markdown",
   "id": "2123e672-6a38-4955-b3d6-dedf75f81062",
   "metadata": {},
   "source": [
    "Known center of patch 17 in tract 4431."
   ]
  },
  {
   "cell_type": "code",
   "execution_count": null,
   "id": "1129fe6f-a257-471b-9c9d-5d1a1fb04a69",
   "metadata": {},
   "outputs": [],
   "source": [
    "ra = 55.65214108448894\n",
    "dec = -32.2056644049641\n",
    "result = lcc.nearest_patch_from_ra_dec(ra, dec)\n",
    "print(result)\n",
    "del result, ra, dec"
   ]
  },
  {
   "cell_type": "markdown",
   "id": "5c5c35a2-556e-4a80-ab4a-15296e6b67ea",
   "metadata": {},
   "source": [
    "Known location of a galaxy cluster in the south-east corner of patch 17, tract 4431."
   ]
  },
  {
   "cell_type": "code",
   "execution_count": null,
   "id": "731389f2-066d-4666-850f-5d1a31a8ef86",
   "metadata": {},
   "outputs": [],
   "source": [
    "ra = 55.745834\n",
    "dec = -32.269167\n",
    "result = lcc.nearest_patch_from_ra_dec(ra, dec)\n",
    "print(result)\n",
    "del result, ra, dec"
   ]
  },
  {
   "cell_type": "markdown",
   "id": "67b823d4-d0fa-4ebc-bd56-a19f45c020c9",
   "metadata": {},
   "source": [
    "Prompt a warning by using coordinates near the edge of patch 10 in tract 3831."
   ]
  },
  {
   "cell_type": "code",
   "execution_count": null,
   "id": "fada05e0-4401-4c1e-8493-ce93a77e6b14",
   "metadata": {},
   "outputs": [],
   "source": [
    "ra = 62.0\n",
    "dec = -37.0\n",
    "result = lcc.nearest_patch_from_ra_dec(ra, dec)\n",
    "print(result)\n",
    "del result, ra, dec"
   ]
  },
  {
   "cell_type": "markdown",
   "id": "294d01b4-8c8b-4f18-966e-f844d5851c3a",
   "metadata": {},
   "source": [
    "Prompt failure by using coordinates in the northern hemisphere."
   ]
  },
  {
   "cell_type": "code",
   "execution_count": null,
   "id": "6a879c85-8728-4f54-bf59-fb5a2b348632",
   "metadata": {},
   "outputs": [],
   "source": [
    "ra = 62.0\n",
    "dec = 35.0\n",
    "result = lcc.nearest_patch_from_ra_dec(ra, dec)\n",
    "print(result)\n",
    "del result, ra, dec"
   ]
  },
  {
   "cell_type": "markdown",
   "id": "31cf4f91-8fb8-4b95-97bc-32a1ef902028",
   "metadata": {},
   "source": [
    "## psf_size_at_pixel_xy"
   ]
  },
  {
   "cell_type": "code",
   "execution_count": null,
   "id": "8270682a-0e0e-4de7-bb3a-04eb5ca962ab",
   "metadata": {},
   "outputs": [],
   "source": [
    "help(lcc.psf_size_at_pixel_xy)"
   ]
  },
  {
   "cell_type": "code",
   "execution_count": null,
   "id": "a3833600-b91f-4616-9045-c959bcdbb262",
   "metadata": {},
   "outputs": [],
   "source": [
    "butler = Butler('dp02', collections='2.2i/runs/DP0.2')"
   ]
  },
  {
   "cell_type": "markdown",
   "id": "9994cee9-aebf-4b89-b21d-77513906c2fe",
   "metadata": {},
   "source": [
    "For a single processed visit image, a `calexp`."
   ]
  },
  {
   "cell_type": "code",
   "execution_count": null,
   "id": "818198a9-5471-4a3f-8b40-10f31ad7fccc",
   "metadata": {},
   "outputs": [],
   "source": [
    "dataId = {'visit': 192350, 'detector': 175, 'band': 'i'}\n",
    "calexp = butler.get('calexp', dataId=dataId)\n",
    "xy = (2000, 1980)\n",
    "\n",
    "results = lcc.psf_size_at_pixel_xy(calexp.getPsf(), calexp.getBBox(), xy)\n",
    "print(results)\n",
    "\n",
    "del results, dataId, calexp, xy"
   ]
  },
  {
   "cell_type": "markdown",
   "id": "0999f774-848b-4fe1-8e93-91a784f5fda6",
   "metadata": {},
   "source": [
    "For a deeply coadded image, a `deepCoadd`."
   ]
  },
  {
   "cell_type": "code",
   "execution_count": null,
   "id": "7f032b8a-1e67-4cc5-a259-f561cc397ec2",
   "metadata": {},
   "outputs": [],
   "source": [
    "dataId = {'band': 'i', 'tract': 4431, 'patch': 17}\n",
    "deepCoadd = butler.get('deepCoadd', dataId=dataId)\n",
    "xy = (14099, 9980)\n",
    "\n",
    "results = lcc.psf_size_at_pixel_xy(deepCoadd.getPsf(), deepCoadd.getBBox(), xy)\n",
    "print(results)\n",
    "\n",
    "del results, dataId, deepCoadd, xy"
   ]
  },
  {
   "cell_type": "markdown",
   "id": "fe40fd76-5d4b-4216-8f43-97fd48d2cb90",
   "metadata": {},
   "source": [
    "Show failure mode when passing pixel coordinates outside the bounding box."
   ]
  },
  {
   "cell_type": "code",
   "execution_count": null,
   "id": "28f5b32d-9037-4325-ad54-62f17ce01bf1",
   "metadata": {},
   "outputs": [],
   "source": [
    "dataId = {'visit': 192350, 'detector': 175, 'band': 'i'}\n",
    "calexp = butler.get('calexp', dataId=dataId)\n",
    "xy = (99999, 99999)\n",
    "\n",
    "results = lcc.psf_size_at_pixel_xy(calexp.getPsf(), calexp.getBBox(), xy)\n",
    "print(results)\n",
    "\n",
    "del results, dataId, calexp, xy"
   ]
  },
  {
   "cell_type": "code",
   "execution_count": null,
   "id": "75dbaae0-33a7-4b95-be87-394041433707",
   "metadata": {},
   "outputs": [],
   "source": []
  }
 ],
 "metadata": {
  "kernelspec": {
   "display_name": "LSST",
   "language": "python",
   "name": "lsst"
  },
  "language_info": {
   "codemirror_mode": {
    "name": "ipython",
    "version": 3
   },
   "file_extension": ".py",
   "mimetype": "text/x-python",
   "name": "python",
   "nbconvert_exporter": "python",
   "pygments_lexer": "ipython3",
   "version": "3.11.7"
  }
 },
 "nbformat": 4,
 "nbformat_minor": 5
}
