{
 "cells": [
  {
   "cell_type": "code",
   "execution_count": null,
   "id": "0c434cee-005f-4cdc-879d-285bcfabc333",
   "metadata": {},
   "outputs": [],
   "source": [
    "import numpy as np\n",
    "import pandas as pd\n",
    "from lsst.geom import Extent2I\n",
    "from astropy.coordinates import SkyCoord\n",
    "from lsst.cst.helpers import create_interactive_image, create_rgb_composite_image\n",
    "from lsst.cst.data_visualization import DataImageDisplay, ScatterOptions\n",
    "\n",
    "from lsst.cst.utilities import save_plot_as_html, delete_plot\n",
    "from lsst.cst.image_display.interactors import HoverTool\n",
    "from lsst.cst.helpers import create_linked_plot_with_brushing, create_datashader_plot, create_bounding_boxes_calexps_overlapping_a_point_plot, create_psf_flux_plot\n",
    "from lsst.cst.conversions import data_id_to_str\n",
    "from lsst.cst.utilities.queries import Band, ExposureDataHandler, DataWrapper, TAPService, QueryExposureData\n",
    "from lsst.cst.conversions import nearest_patch_from_ra_dec, psf_size_at_pixel_xy\n",
    "from lsst.cst import set_log_level\n",
    "import logging\n",
    "\n",
    "set_log_level(logging.DEBUG)\n",
    "from holoviews import Scatter"
   ]
  },
  {
   "cell_type": "markdown",
   "id": "4cecd9d6-9bac-4d4f-aa27-19d074a8de4f",
   "metadata": {},
   "source": [
    "Get data image and sources information from the butler"
   ]
  },
  {
   "cell_type": "code",
   "execution_count": null,
   "id": "3b52eaeb-4ad5-47bd-bd69-e99d16fa2d30",
   "metadata": {},
   "outputs": [],
   "source": [
    "from lsst.daf.butler import Butler, ButlerConfig\n",
    "config = 'dp02'\n",
    "collection = '2.2i/runs/DP0.2'\n",
    "butler = Butler(config, collections=collection)"
   ]
  },
  {
   "cell_type": "code",
   "execution_count": null,
   "id": "7fec0502-b194-4b73-b04f-62f35f2ba398",
   "metadata": {},
   "outputs": [],
   "source": [
    "calexpId = {'visit': 192350, 'detector': 175, 'band': 'i'}\n",
    "calexp = butler.get('calexp', dataId=calexpId)\n",
    "assert calexp is not None\n",
    "calexp_sources = butler.get('sourceTable', dataId=calexpId)\n",
    "assert calexp_sources is not None\n",
    "print(calexp.getDimensions())"
   ]
  },
  {
   "cell_type": "markdown",
   "id": "ba3ffcfe-ad12-47fd-bcdd-4f034c341054",
   "metadata": {},
   "source": [
    "Create a plot with the image and the sources. Sources will be shown over the image with the hover tool enabled so that position will be shown when mouse is over. <br/>\n",
    "Parameters available:<br/>\n",
    "title: str<br/>\n",
    "axes_label: Tuple[str, str]<br/>\n",
    "marker: str<br/>\n",
    "marker_color: str<br/>"
   ]
  },
  {
   "cell_type": "code",
   "execution_count": null,
   "id": "617e10b8-48cb-4e06-a2c9-5a3b4e3231cf",
   "metadata": {},
   "outputs": [],
   "source": [
    "image_plot = create_interactive_image(calexp, calexp_sources, title=data_id_to_str(calexpId), axes_label=(\"X\", \"Y\"))\n",
    "image_plot"
   ]
  },
  {
   "cell_type": "markdown",
   "id": "4b874dc0-343e-4183-b642-c4c159544727",
   "metadata": {},
   "source": [
    "Saving plot:"
   ]
  },
  {
   "cell_type": "code",
   "execution_count": null,
   "id": "87b41c03-2399-4703-bdb1-06ddb6289a69",
   "metadata": {},
   "outputs": [],
   "source": [
    "save_plot_as_html(image_plot, \"image_plot.html\")"
   ]
  },
  {
   "cell_type": "markdown",
   "id": "4bc31461-47e7-4368-aeed-047ed7fbb365",
   "metadata": {},
   "source": [
    "Deleting plot:"
   ]
  },
  {
   "cell_type": "code",
   "execution_count": null,
   "id": "a916537a-c703-45eb-863d-5e1eb330e69d",
   "metadata": {},
   "outputs": [],
   "source": [
    "delete_plot(image_plot)"
   ]
  },
  {
   "cell_type": "markdown",
   "id": "f1aa28fa-ebd0-48b7-813f-6e8513e2c363",
   "metadata": {},
   "source": [
    "Get information from the TAP Service:"
   ]
  },
  {
   "cell_type": "code",
   "execution_count": null,
   "id": "5df665bc-2f17-4ed7-9923-e438ea4d777a",
   "metadata": {},
   "outputs": [],
   "source": [
    "from astropy import units as u\n",
    "coord = SkyCoord(ra=55.65*u.degree, dec=-40.*u.degree, frame='icrs')\n",
    "query = QueryExposureData.from_sky_coord(coord, 1.0)\n",
    "tap_exposure_data = TAPService()\n",
    "tap_exposure_data.query = query"
   ]
  },
  {
   "cell_type": "code",
   "execution_count": null,
   "id": "62a75417-e5ad-4b00-b473-f2ded81057c2",
   "metadata": {},
   "outputs": [],
   "source": [
    "data = tap_exposure_data.fetch()"
   ]
  },
  {
   "cell_type": "markdown",
   "id": "045b7165-d5bb-40e4-9f2f-80172c9e84b0",
   "metadata": {},
   "source": [
    "Create a linked plot out of a pandas Series with the **create_linked_plot_with_brushing** function, note that if no column is selected, first two columns of the series will be used for the plot.<br/> Parameters available: <br/>\n",
    "data: pd.Series <br/>\n",
    "columns: Tuple[str, str], optional<br/>\n",
    "hovertool: bokeh.models.tools.HoverTool, optional<br/>"
   ]
  },
  {
   "cell_type": "code",
   "execution_count": null,
   "id": "4fa370ce-0ac7-4eb3-9498-18e13d4db7c3",
   "metadata": {},
   "outputs": [],
   "source": [
    "raDecHover = HoverTool(\n",
    "    tooltips=[\n",
    "        ('ra,dec', '@coord_ra / @coord_dec'),\n",
    "        ('rmag', '@mag_r_cModel'),\n",
    "        ('type', '@shape_type'),\n",
    "    ],\n",
    "    formatters={\n",
    "        'ra/dec': 'printf',\n",
    "        'rmag': 'numeral',\n",
    "        'type': 'printf',\n",
    "    },\n",
    "    point_policy=\"follow_mouse\"\n",
    ")\n",
    "reduced_data = data.reduce_data(0.02)\n",
    "linked_brush_plot = create_linked_plot_with_brushing(reduced_data, hovertool=raDecHover)"
   ]
  },
  {
   "cell_type": "code",
   "execution_count": null,
   "id": "429d720a-bc2e-4826-9cc2-88f0c1c93542",
   "metadata": {},
   "outputs": [],
   "source": [
    "linked_brush_plot"
   ]
  },
  {
   "cell_type": "code",
   "execution_count": null,
   "id": "633f5e0e-25a1-4cd4-b5ae-fabb92cc80f2",
   "metadata": {},
   "outputs": [],
   "source": [
    "save_plot_as_html(linked_brush_plot, \"linked_brush_plot.html\")"
   ]
  },
  {
   "cell_type": "code",
   "execution_count": null,
   "id": "1fb17649-45b2-4256-91ff-14f265669078",
   "metadata": {},
   "outputs": [],
   "source": [
    "delete_plot(linked_brush_plot)"
   ]
  },
  {
   "cell_type": "markdown",
   "id": "6361daf4-5c98-4853-af11-857bb7300734",
   "metadata": {},
   "source": [
    "Create datashader plot out of a pandas Series using the **create_datashader_plot** function, note that if no column is selected, first two columns of the series will be used for the plot.<br/> Parameters available: <br/>\n",
    "data: Union[lsst.cst.data.tools.ExposureData, array],<br/>\n",
    "columns: Optional[Tuple[str, str]] = None <br/>"
   ]
  },
  {
   "cell_type": "code",
   "execution_count": null,
   "id": "6ca8cff3-7342-4cd9-b2e4-87a0905f727d",
   "metadata": {},
   "outputs": [],
   "source": [
    "datashader_plot = create_datashader_plot(data, (\"gmr\", \"gmi\"))"
   ]
  },
  {
   "cell_type": "code",
   "execution_count": null,
   "id": "bf7079aa-c023-4b8d-ba45-c4bdf3a60c52",
   "metadata": {},
   "outputs": [],
   "source": [
    "datashader_plot"
   ]
  },
  {
   "cell_type": "code",
   "execution_count": null,
   "id": "c8b6d709-ebb8-4080-949f-2c8ed57cea06",
   "metadata": {},
   "outputs": [],
   "source": [
    "save_plot_as_html(datashader_plot, \"datashader_plot.html\")"
   ]
  },
  {
   "cell_type": "code",
   "execution_count": null,
   "id": "93c09b3d-0a47-4057-b7e9-f6f6534bb4ce",
   "metadata": {},
   "outputs": [],
   "source": [
    "delete_plot(datashader_plot)"
   ]
  },
  {
   "cell_type": "code",
   "execution_count": null,
   "id": "038957a5-544b-4bcd-b76b-adda45b6dce9",
   "metadata": {},
   "outputs": [],
   "source": [
    "my_ra_deg = 55.745834\n",
    "my_dec_deg = -32.269167\n",
    "values = tract_patch_from_ra_dec(my_ra_deg, my_dec_deg)"
   ]
  },
  {
   "cell_type": "code",
   "execution_count": null,
   "id": "66d1da54-b27c-491b-ad5e-b91579ea2f45",
   "metadata": {},
   "outputs": [],
   "source": [
    "print(values)"
   ]
  },
  {
   "cell_type": "code",
   "execution_count": null,
   "id": "e1515d88-5bce-4899-832c-002ba1d0002e",
   "metadata": {},
   "outputs": [],
   "source": [
    "values.tract, values.patch"
   ]
  },
  {
   "cell_type": "code",
   "execution_count": null,
   "id": "f87f3393-a0d7-4d34-9277-f1cc058a7fdc",
   "metadata": {},
   "outputs": [],
   "source": [
    "coord = SkyCoord(62.0, -37.0, frame='icrs', unit='deg')\n",
    "mjd_range = (60250, 60300)\n",
    "create_bounding_boxes_calexps_overlapping_a_point_plot(coord, mjd_range)"
   ]
  },
  {
   "cell_type": "code",
   "execution_count": null,
   "id": "898fa945-b0c5-48a4-b6b5-b449092353a1",
   "metadata": {},
   "outputs": [],
   "source": [
    "create_psf_flux_plot(1252220598734556212, Band.i)"
   ]
  },
  {
   "cell_type": "code",
   "execution_count": null,
   "id": "c50761ec-9b4a-488c-aa5a-23a3b2c61acf",
   "metadata": {},
   "outputs": [],
   "source": [
    "datasetType = 'calexp'\n",
    "dataId = {'visit': 192350, 'detector': 175}\n",
    "calexp = butler.get(datasetType, dataId=dataId)"
   ]
  },
  {
   "cell_type": "code",
   "execution_count": null,
   "id": "b9df07b9-4a78-42e5-8ff2-ba70d485aa2f",
   "metadata": {},
   "outputs": [],
   "source": [
    "from lsst.geom import Point2D, radToDeg, SpherePoint, degrees\n",
    "point_tuple = (2000, 3500)\n",
    "point_image = Point2D(point_tuple)\n",
    "info_calexp = calexp.getInfo()\n",
    "psf_calexp = info_calexp.getPsf()\n",
    "bbox_calexp = calexp.getBBox()\n",
    "props = psf_size_at_pixel_xy(psf_calexp, bbox_calexp, point_tuple)\n",
    "print(props)"
   ]
  },
  {
   "cell_type": "code",
   "execution_count": null,
   "id": "6350c247-3ca8-4b72-846c-7306d592fddd",
   "metadata": {},
   "outputs": [],
   "source": [
    "create_rgb_composite_image(butler, 53.5693184520789,-34.57214410322362)"
   ]
  },
  {
   "cell_type": "code",
   "execution_count": null,
   "id": "310d41f4-a715-428c-aa81-b50089d57625",
   "metadata": {},
   "outputs": [],
   "source": []
  }
 ],
 "metadata": {
  "kernelspec": {
   "display_name": "LSST",
   "language": "python",
   "name": "lsst"
  },
  "language_info": {
   "codemirror_mode": {
    "name": "ipython",
    "version": 3
   },
   "file_extension": ".py",
   "mimetype": "text/x-python",
   "name": "python",
   "nbconvert_exporter": "python",
   "pygments_lexer": "ipython3",
   "version": "3.11.7"
  }
 },
 "nbformat": 4,
 "nbformat_minor": 5
}
